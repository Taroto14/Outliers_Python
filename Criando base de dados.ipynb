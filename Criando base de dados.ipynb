{
 "cells": [
  {
   "cell_type": "markdown",
   "id": "6447c12f-2a78-42a2-bfd4-aa0585e1fe66",
   "metadata": {},
   "source": [
    "Criando a base de dados fiticia"
   ]
  },
  {
   "cell_type": "code",
   "execution_count": 2,
   "id": "d83f236b-9379-4600-8d76-5e0c15661bc2",
   "metadata": {},
   "outputs": [],
   "source": [
    "import pandas as pd\n",
    "import numpy as np\n",
    "from matplotlib import pyplot as plt\n",
    "import seaborn as sns"
   ]
  },
  {
   "cell_type": "code",
   "execution_count": 3,
   "id": "068798b5-9031-4fea-8660-d6a36cf41e0e",
   "metadata": {},
   "outputs": [],
   "source": [
    "# Definir número de registros\n",
    "n = 200"
   ]
  },
  {
   "cell_type": "code",
   "execution_count": 4,
   "id": "81147e5a-52dd-45de-af71-5c926fa6a34d",
   "metadata": {},
   "outputs": [],
   "source": [
    "# Gerar dados fictícios\n",
    "np.random.seed(42)\n",
    "ids = np.arange(1, n + 1)\n",
    "idade = np.random.normal(35, 10, n)  # Média de 35 anos, desvio padrão de 10\n",
    "salario = np.random.normal(5000, 1200, n)  # Média de 5000, desvio padrão de 1200\n",
    "horas_trabalho = np.random.normal(40, 5, n)  # Média de 40 horas semanais, desvio padrão de 5"
   ]
  },
  {
   "cell_type": "code",
   "execution_count": 5,
   "id": "98da90d2-443a-473d-bb17-215cfdc78598",
   "metadata": {},
   "outputs": [],
   "source": [
    "# Inserir outliers em várias colunas\n",
    "idade[5] = 120  # Idade muito alta\n",
    "idade[10] = 5    # Idade muito baixa\n",
    "salario[20] = 30000  # Salário muito alto\n",
    "salario[30] = 500    # Salário muito baixo\n",
    "horas_trabalho[50] = 100  # Horas muito altas\n",
    "horas_trabalho[60] = 5    # Horas muito baixas"
   ]
  },
  {
   "cell_type": "code",
   "execution_count": 6,
   "id": "c0795e80-601d-41bd-973f-7d9b0aad89b0",
   "metadata": {},
   "outputs": [],
   "source": [
    "# Criando o daataframe\n",
    "dados_outliers = pd.DataFrame({\n",
    "    \"ID\": ids,\n",
    "    \"Idade\": idade,\n",
    "    \"Salário\": salario,\n",
    "    \"Horas de Trabalho\": horas_trabalho\n",
    "})\n"
   ]
  },
  {
   "cell_type": "code",
   "execution_count": 8,
   "id": "11d4b0d9-0102-45b6-878c-e1156d4ae30c",
   "metadata": {},
   "outputs": [],
   "source": [
    "# Exibir primeiros registros\n",
    "def visualizar_dados():\n",
    "    print(dados_outliers.head())\n",
    "    print(\"\\nEstatísticas:\\n\", dados_outliers.describe())"
   ]
  },
  {
   "cell_type": "code",
   "execution_count": 10,
   "id": "76740073-403c-486d-811b-08b06af48d42",
   "metadata": {},
   "outputs": [],
   "source": [
    "# Salvar base de dados em CSV\n",
    "dados_outliers.to_csv(\"C:/Users/tacio/Documents/Python Scripts/dados_outliers.csv\", index=False)"
   ]
  },
  {
   "cell_type": "code",
   "execution_count": 11,
   "id": "7c36c8b9-dcdf-4d76-a36c-19393e2f3e34",
   "metadata": {},
   "outputs": [
    {
     "name": "stdout",
     "output_type": "stream",
     "text": [
      "   ID      Idade      Salário  Horas de Trabalho\n",
      "0   1  39.967142  5429.344832          32.027862\n",
      "1   2  33.617357  5672.941432          37.003125\n",
      "2   3  41.476885  6299.661492          40.026218\n",
      "3   4  50.230299  6264.562462          40.234903\n",
      "4   5  32.658466  3346.796758          37.749673\n",
      "\n",
      "Estatísticas:\n",
      "                ID       Idade       Salário  Horas de Trabalho\n",
      "count  200.000000  200.000000    200.000000         200.000000\n",
      "mean   100.500000   34.902168   5196.036073          39.649174\n",
      "std     57.879185   11.292827   2138.853735           6.965948\n",
      "min      1.000000    5.000000    500.000000           5.000000\n",
      "25%     50.750000   27.842754   4272.994955          35.972955\n",
      "50%    100.500000   35.090577   5094.607219          39.509624\n",
      "75%    150.250000   40.154360   5824.677369          42.860441\n",
      "max    200.000000  120.000000  30000.000000         100.000000\n"
     ]
    }
   ],
   "source": [
    "# Exemplo de visualização\n",
    "def main():\n",
    "    visualizar_dados()\n",
    "\n",
    "if __name__ == \"__main__\":\n",
    "    main()"
   ]
  },
  {
   "cell_type": "code",
   "execution_count": null,
   "id": "daccb5b7-4234-4385-9c81-95706ca945fb",
   "metadata": {},
   "outputs": [],
   "source": []
  }
 ],
 "metadata": {
  "kernelspec": {
   "display_name": "Python 3 (ipykernel)",
   "language": "python",
   "name": "python3"
  },
  "language_info": {
   "codemirror_mode": {
    "name": "ipython",
    "version": 3
   },
   "file_extension": ".py",
   "mimetype": "text/x-python",
   "name": "python",
   "nbconvert_exporter": "python",
   "pygments_lexer": "ipython3",
   "version": "3.11.7"
  }
 },
 "nbformat": 4,
 "nbformat_minor": 5
}
